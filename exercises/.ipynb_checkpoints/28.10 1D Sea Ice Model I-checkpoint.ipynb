{
 "cells": [
  {
   "cell_type": "code",
   "execution_count": 1,
   "id": "b996f656",
   "metadata": {},
   "outputs": [],
   "source": [
    "import matplotlib.pyplot as plt\n",
    "import numpy as np"
   ]
  },
  {
   "cell_type": "markdown",
   "id": "0dd50cb9",
   "metadata": {},
   "source": [
    "\n",
    "## Problem Definition: \n",
    "Define an array of ice thickness for the 30 days for which we want to calculate the ice- thickness evolution: \n",
    "`h_ice = np.zeros(days)`. Set the initial ice thickness to 0.1 m, i.e. `h_ice[0] = 0.1`. You then should use a `for day in range(1,days)`:-loop to calculatethe ice thickness for days 2 to 30. Inside your for loop, calculate  rst the heat flux Q in the ice based on the thickness of the previous day `h_ice[day-1]`. Then calculate the\n",
    "thickness change that this heat flux can cause within one day. \n",
    "\n",
    "Add this thickness change to the thickness from the day before, and you have the ice thickness for the current day, h_ice[day]. Then you go back to the beginning of the for loop to calculate the thickness\n",
    "on the next day etc.\n",
    "\n",
    "1. Plot your ice thickness evolution for these 30 days\n",
    "2. How thick does your ice get in the end?\n",
    "3. How thick should the ice be after 30 days if you solve the differential equation analytically? This solution is called \"Stefan's law\", by the way."
   ]
  },
  {
   "cell_type": "markdown",
   "id": "c463d310",
   "metadata": {},
   "source": [
    "### Stefan's Law\n",
    "\n",
    "$ \\large -K \\frac{dT}{h} = L \\rho \\frac{dh}{dt}$\n",
    "\n",
    "where \n",
    "\n",
    "`K = heat conductivity of ice [W/(m K)]`\n",
    "\n",
    "`L = Latent heat of freezing for water [ J/kg ]`\n",
    "\n",
    "`$\\rho$ = density of ice`\n",
    "\n",
    "`h = thickness of ice`\n",
    "\n",
    "\n",
    "\n",
    "$ \\large \\Delta h = -K \\times \\frac{(T_{top} - T_{bottom})}{h} \\times \\frac{\\Delta t}{L \\times \\rho}$\n",
    "    \n"
   ]
  },
  {
   "cell_type": "code",
   "execution_count": 2,
   "id": "34465c1d",
   "metadata": {},
   "outputs": [],
   "source": [
    "days = 30 # duration of simulation\n",
    "Tbot = -1.8 # Temperature at the bottom [C]\n",
    "Ttop = -10\n",
    "L = 334000 # Latent heat of freezing for water [ J/kg ]\n",
    "rho = 970 # density of ice [ kg/m^ 3 ]\n",
    "k_ice = 2.2 # heat conductivity of ice [W/(m K) ]\n",
    "k_snow = 0.3 # heat conductivity of snow [W/(m K) ]\n",
    "sec_per_day = 86400"
   ]
  },
  {
   "cell_type": "code",
   "execution_count": 3,
   "id": "496cd2d0",
   "metadata": {},
   "outputs": [],
   "source": [
    "h_ice = np.zeros(days)"
   ]
  },
  {
   "cell_type": "code",
   "execution_count": 4,
   "id": "1f57fbc9",
   "metadata": {},
   "outputs": [
    {
     "data": {
      "text/plain": [
       "array([0., 0., 0., 0., 0., 0., 0., 0., 0., 0., 0., 0., 0., 0., 0., 0., 0.,\n",
       "       0., 0., 0., 0., 0., 0., 0., 0., 0., 0., 0., 0., 0.])"
      ]
     },
     "execution_count": 4,
     "metadata": {},
     "output_type": "execute_result"
    }
   ],
   "source": [
    "h_ice"
   ]
  },
  {
   "cell_type": "code",
   "execution_count": 5,
   "id": "4109ddc0",
   "metadata": {},
   "outputs": [
    {
     "data": {
      "text/plain": [
       "30"
      ]
     },
     "execution_count": 5,
     "metadata": {},
     "output_type": "execute_result"
    }
   ],
   "source": [
    "len(h_ice)"
   ]
  },
  {
   "cell_type": "code",
   "execution_count": 6,
   "id": "55e16a5d",
   "metadata": {},
   "outputs": [],
   "source": [
    "h_ice[0] = 0.1"
   ]
  },
  {
   "cell_type": "code",
   "execution_count": 7,
   "id": "deb1ed77",
   "metadata": {},
   "outputs": [
    {
     "data": {
      "text/plain": [
       "array([0.1, 0. , 0. , 0. , 0. , 0. , 0. , 0. , 0. , 0. , 0. , 0. , 0. ,\n",
       "       0. , 0. , 0. , 0. , 0. , 0. , 0. , 0. , 0. , 0. , 0. , 0. , 0. ,\n",
       "       0. , 0. , 0. , 0. ])"
      ]
     },
     "execution_count": 7,
     "metadata": {},
     "output_type": "execute_result"
    }
   ],
   "source": [
    "h_ice"
   ]
  },
  {
   "cell_type": "code",
   "execution_count": 8,
   "id": "a12bed57",
   "metadata": {},
   "outputs": [
    {
     "name": "stdout",
     "output_type": "stream",
     "text": [
      "30\n",
      "[0.1        0.14810964 0.18059208 0.20723203 0.23044738 0.25132401\n",
      " 0.27046648 0.28825413 0.30494414 0.32072068 0.33572116 0.3500514\n",
      " 0.36379499 0.37701937 0.38977989 0.40212266 0.41408658 0.42570484\n",
      " 0.43700601 0.44801493 0.45875333 0.46924037 0.47949303 0.48952647\n",
      " 0.49935426 0.50898863 0.51844063 0.52772032 0.53683682 0.54579851]\n"
     ]
    }
   ],
   "source": [
    "for i in range(1, days):\n",
    "    delh = (-k_ice * (Ttop - Tbot) * sec_per_day) / (h_ice[i-1] * L * rho) \n",
    "    h_ice[i] = delh + h_ice[i-1]    \n",
    "    \n",
    "print(len(h_ice))\n",
    "print(h_ice)"
   ]
  },
  {
   "cell_type": "code",
   "execution_count": 9,
   "id": "8f594b2d",
   "metadata": {},
   "outputs": [
    {
     "name": "stdout",
     "output_type": "stream",
     "text": [
      "30\n",
      "[0.10832385544228065, 0.1531930654950159, 0.18762242129777654, 0.2166477108845613, 0.2422195043538001, 0.2653381728045942, 0.28659798255598523, 0.3063861309900318, 0.324971566326842, 0.342550108128433, 0.3592695843467427, 0.3752448425955531, 0.39056721515309184, 0.405310753879442, 0.41953648812493266, 0.4332954217691226, 0.4466306977626616, 0.4595791964850477, 0.47217273904760976, 0.4844390087076002, 0.4964022671337052, 0.5080839187313082, 0.5195029606568596, 0.5306763456091884, 0.5416192772114032, 0.552345452687793, 0.5628672638933296, 0.5731959651119705, 0.5833418141008951, 0.5933141914166586]\n"
     ]
    }
   ],
   "source": [
    "h_analytical = []\n",
    "for j in range(0, days):\n",
    "    \n",
    "    h_aly = np.sqrt((20*k_ice*(j+1)*86400)/(L * rho))\n",
    "    \n",
    "    h_analytical.append(h_aly)\n",
    "    \n",
    "print(len(h_analytical))\n",
    "print(h_analytical)"
   ]
  },
  {
   "cell_type": "code",
   "execution_count": 10,
   "id": "dc6f4e9c",
   "metadata": {},
   "outputs": [
    {
     "data": {
      "text/plain": [
       "Text(0.5, 1.0, '1D Sea Ice Model I')"
      ]
     },
     "execution_count": 10,
     "metadata": {},
     "output_type": "execute_result"
    },
    {
     "data": {
      "image/png": "[encoded data removed]",
      "text/plain": [
       "<Figure size 720x360 with 1 Axes>"
      ]
     },
     "metadata": {
      "needs_background": "light"
     },
     "output_type": "display_data"
    }
   ],
   "source": [
    "plt.figure(figsize = (10,5))\n",
    "plt.plot(h_ice, 'r*')\n",
    "plt.plot(h_analytical)\n",
    "plt.legend(['h_ice', 'h_analytical'])\n",
    "plt.title('1D Sea Ice Model I')"
   ]
  },
  {
   "cell_type": "code",
   "execution_count": null,
   "id": "e91a6a8b",
   "metadata": {},
   "outputs": [],
   "source": []
  }
 ],
 "metadata": {
  "kernelspec": {
   "display_name": "Python 3 (ipykernel)",
   "language": "python",
   "name": "python3"
  },
  "language_info": {
   "codemirror_mode": {
    "name": "ipython",
    "version": 3
   },
   "file_extension": ".py",
   "mimetype": "text/x-python",
   "name": "python",
   "nbconvert_exporter": "python",
   "pygments_lexer": "ipython3",
   "version": "3.9.9"
  }
 },
 "nbformat": 4,
 "nbformat_minor": 5
}
