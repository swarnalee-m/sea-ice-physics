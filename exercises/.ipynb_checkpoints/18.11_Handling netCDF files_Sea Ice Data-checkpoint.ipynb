{
 "cells": [
  {
   "cell_type": "code",
   "execution_count": null,
   "id": "cb9959a2",
   "metadata": {},
   "outputs": [],
   "source": []
  },
  {
   "cell_type": "code",
   "execution_count": 15,
   "id": "e73b9b32",
   "metadata": {},
   "outputs": [],
   "source": [
    "# Path is where you put the data you downloaded from mattermost\n",
    "\n",
    "# you can see where this jupyter notebook is opened by running the command `pwd`\n",
    "# uncomment to see your (p)resent (w)orking (d)irectory \n",
    "# pwd \n",
    "\n",
    "# always end the path with a forward slash\n",
    "path = 'sea-ice-physics/datasets/18.11/'\n",
    "\n",
    "# ls to print the names of all the files that are present in your current working directory"
   ]
  },
  {
   "cell_type": "code",
   "execution_count": 16,
   "id": "cfaffa07",
   "metadata": {},
   "outputs": [
    {
     "name": "stdout",
     "output_type": "stream",
     "text": [
      "04.11_1D Sea Ice Model I with SNOW.ipynb\r\n",
      "18.11_Handling netCDF files_Sea Ice Data.ipynb\r\n",
      "28.10 1D Sea Ice Model I.ipynb\r\n"
     ]
    }
   ],
   "source": [
    "ls"
   ]
  },
  {
   "cell_type": "code",
   "execution_count": 17,
   "id": "b910d3e5",
   "metadata": {},
   "outputs": [
    {
     "data": {
      "text/plain": [
       "'/Users/swarnalee/Desktop/uhh/sem 1/sea-ice-physics/exercises'"
      ]
     },
     "execution_count": 17,
     "metadata": {},
     "output_type": "execute_result"
    }
   ],
   "source": [
    "pwd"
   ]
  },
  {
   "cell_type": "code",
   "execution_count": 18,
   "id": "bfb6393f",
   "metadata": {},
   "outputs": [],
   "source": [
    "# creating variables to just to store the filename (string)\n",
    "\n",
    "file_siaobs = 'SeaIceArea__NorthernHemisphere__monthly__UHH__v2019_fv0.01.nc'\n",
    "file_siv = 'PIOMAS.monthly.Current.v2.1.csv'\n",
    "file_siacmip = 'MPI-ESM_nh_all_fv0.02.nc'"
   ]
  },
  {
   "cell_type": "code",
   "execution_count": 19,
   "id": "4be78715",
   "metadata": {},
   "outputs": [
    {
     "ename": "FileNotFoundError",
     "evalue": "[Errno 2] No such file or directory: b'sea-ice-physics/datasets/18.11/SeaIceArea__NorthernHemisphere__monthly__UHH__v2019_fv0.01.nc'",
     "output_type": "error",
     "traceback": [
      "\u001b[0;31m---------------------------------------------------------------------------\u001b[0m",
      "\u001b[0;31mFileNotFoundError\u001b[0m                         Traceback (most recent call last)",
      "\u001b[0;32m/var/folders/k1/98czblp10p52566t33tp1q140000gn/T/ipykernel_13553/3216484400.py\u001b[0m in \u001b[0;36m<module>\u001b[0;34m\u001b[0m\n\u001b[1;32m      2\u001b[0m \u001b[0;31m# using the function `Dataset` from the `netCDF4` module (check cell 1)\u001b[0m\u001b[0;34m\u001b[0m\u001b[0;34m\u001b[0m\u001b[0m\n\u001b[1;32m      3\u001b[0m \u001b[0;34m\u001b[0m\u001b[0m\n\u001b[0;32m----> 4\u001b[0;31m \u001b[0msia_netcdf\u001b[0m\u001b[0;34m=\u001b[0m\u001b[0mDataset\u001b[0m\u001b[0;34m(\u001b[0m\u001b[0mpath\u001b[0m\u001b[0;34m+\u001b[0m\u001b[0mfile_siaobs\u001b[0m\u001b[0;34m)\u001b[0m\u001b[0;34m\u001b[0m\u001b[0;34m\u001b[0m\u001b[0m\n\u001b[0m",
      "\u001b[0;32msrc/netCDF4/_netCDF4.pyx\u001b[0m in \u001b[0;36mnetCDF4._netCDF4.Dataset.__init__\u001b[0;34m()\u001b[0m\n",
      "\u001b[0;32msrc/netCDF4/_netCDF4.pyx\u001b[0m in \u001b[0;36mnetCDF4._netCDF4._ensure_nc_success\u001b[0;34m()\u001b[0m\n",
      "\u001b[0;31mFileNotFoundError\u001b[0m: [Errno 2] No such file or directory: b'sea-ice-physics/datasets/18.11/SeaIceArea__NorthernHemisphere__monthly__UHH__v2019_fv0.01.nc'"
     ]
    }
   ],
   "source": [
    "# opening the netCDF dataset 'SeaIceArea__NorthernHemisphere__monthly__UHH__v2019_fv0.01.nc' \n",
    "# using the function `Dataset` from the `netCDF4` module (check cell 1)\n",
    "\n",
    "sia_netcdf=Dataset(path+file_siaobs)"
   ]
  },
  {
   "cell_type": "code",
   "execution_count": 6,
   "id": "8655abcc",
   "metadata": {},
   "outputs": [
    {
     "data": {
      "text/plain": [
       "<class 'netCDF4._netCDF4.Dataset'>\n",
       "root group (NETCDF4 data model, file format HDF5):\n",
       "    Conventions: CF-1.6\n",
       "    title: Arctic sea-ice area derived from sea-ice concentration for different sources\n",
       "    summary: This dataset contains the monthly mean Arctic sea-ice area calculated from monthly or daily mean sea-ice concentration fields from different sources. For sources of daily mean sea-ice concentration, the daily sea-ice area is calculated, and then a monthly average is performed. When required, temporal gaps of less than 7 days and spatial gaps of less than 1000 grid cells are interpolated in the dataset.\n",
       "    institution: Institut für Meereskunde, University of Hamburg\n",
       "    topiccategory: Oceans ClimatologyMeteorologyAtmosphere\n",
       "    keywords: Earth Science > Cryosphere > Sea Ice > Sea Ice Area\n",
       " Earth Science > Oceans > Sea Ice > Sea Ice Area\n",
       "\n",
       "    keywords_vocabulary: GCMD Science Keywords\n",
       "    time_coverage_start: 1850-01-01T00:00:00Z\n",
       "    time_coverage_end: 2020-01-01T00:00:00Z\n",
       "    time_coverage_duration: P170Y\n",
       "    time_coverage_resolution: P0Y1M0D\n",
       "    date_created: 2021-01-12\n",
       "    cdm_data_type: point\n",
       "    contributor_name: Dirk Notz, Jakob Dörr, Stefan Kern\n",
       "    contributor_role: author,author, author\n",
       "    creator_name: Institut für Meereskunde, University of Hamburg\n",
       "    creator_type: institute\n",
       "    creator_url: https://www.ifm.uni-hamburg.de\n",
       "    creator_email: uhhsia.ifm@uni-hamburg.de\n",
       "    licence: Creative Commons Attribution 4.0 International (CC BY 4.0)\n",
       "    product_name: UHH-SeaIceArea (UHH-SIA)\n",
       "    source: Satellite, Airborne reconnaissance, Shiplogs\n",
       "    references: Titchner, H. A., and N. A. Rayner (2014), The Met Office Hadley Centre sea ice and sea surface temperature data set, version 2: 1. Sea ice concentrations, J. Geophys. Res. Atmos., 119, 2864-2889, doi: 10.1002/2013JD020316., version: HadISST.2.2.0.0, website: https://www.metoffice.gov.uk/hadobs/hadisst2/index.html. Last accessed: 2019-11-01; Walsh, J. E., W. L. Chapman, F. Fetterer, and J. S. Stewart. 2019. Gridded Monthly Sea Ice Extent and Concentration, 1850 Onward, Version 2. [1850-2017]. Boulder, Colorado USA. NSIDC: National Snow and Ice Data Center. doi: https://doi.org/10.7265/jj4s-tq79. Last accessed: 2020-08-14; Meier, W. N., F. Fetterer, M. Savoie, S. Mallory, R. Duerr, and J. Stroeve. 2017. NOAA/NSIDC Climate Data Record of Passive Microwave Sea Ice Concentration, Version 3. [1979-2019]. Boulder, Colorado USA. NSIDC: National Snow and Ice Data Center. doi: https://doi.org/10.7265/N59P2ZTG. Last accessed: 2020-08-14.; EUMETSAT Ocean and Sea Ice Satellite Application Facility. Global sea ice concentration interim climate data record 2016 onwards (v2.0, 2019), [Online]. Norwegian and Danish Meteorological Institutes. Last accessed: 2020-03-17;EUMETSAT Ocean and Sea Ice Satellite Application Facility. Global sea ice concentration climate data record 1979-2015 (v2.0, 2017), [Online]. Norwegian and Danish Meteorological Institutes. doi: 10.15770/EUM_SAF_OSI_0008. Last accessed: 2020-08-14\n",
       "    history: Wed Jan 20 14:46:21 2021: ncatted -O -a product_version,global,o,c,v2019_fv0.01 SeaIceArea__NorthernHemisphere__monthly__UHH__v2019_fv0.01.nc\n",
       "2021-01-12T09:14:27Z creation\n",
       "    product_version: v2019_fv0.01\n",
       "    dimensions(sizes): time(2040)\n",
       "    variables(dimensions): float64 time(time), float64 HadISST_nsidc(time), float64 HadISST_orig(time), float64 nsidc_bt(time), float64 nsidc_nt(time), float64 osisaf(time), float64 walsh(time)\n",
       "    groups: "
      ]
     },
     "execution_count": 6,
     "metadata": {},
     "output_type": "execute_result"
    }
   ],
   "source": [
    "# this prints all the metadata (supplementary information) that is contained in the dataset\n",
    "# for e.g., description of the file, contributor, organisation, history, \n",
    "        #   dimensions, variable names (contained inside the dataset) etc.\n",
    "\n",
    "sia_netcdf"
   ]
  },
  {
   "cell_type": "code",
   "execution_count": 7,
   "id": "41f9145b",
   "metadata": {},
   "outputs": [
    {
     "data": {
      "text/plain": [
       "{'time': <class 'netCDF4._netCDF4.Variable'>\n",
       " float64 time(time)\n",
       "     long_name: time\n",
       "     standard_name: time\n",
       "     units: days since 1850-01-01 00:00:00\n",
       "     calendar: gregorian\n",
       " unlimited dimensions: time\n",
       " current shape = (2040,)\n",
       " filling on, default _FillValue of 9.969209968386869e+36 used,\n",
       " 'HadISST_nsidc': <class 'netCDF4._netCDF4.Variable'>\n",
       " float64 HadISST_nsidc(time)\n",
       "     _FillValue: -9999.0\n",
       "     long_name: HadISST_nsidc monthly Arctic sea-ice area\n",
       "     standard_name: sea_ice_area\n",
       "     units: 1e6 km2\n",
       " unlimited dimensions: time\n",
       " current shape = (2040,)\n",
       " filling on,\n",
       " 'HadISST_orig': <class 'netCDF4._netCDF4.Variable'>\n",
       " float64 HadISST_orig(time)\n",
       "     _FillValue: -9999.0\n",
       "     long_name: HadISST_orig monthly Arctic sea-ice area\n",
       "     standard_name: sea_ice_area\n",
       "     units: 1e6 km2\n",
       " unlimited dimensions: time\n",
       " current shape = (2040,)\n",
       " filling on,\n",
       " 'nsidc_bt': <class 'netCDF4._netCDF4.Variable'>\n",
       " float64 nsidc_bt(time)\n",
       "     _FillValue: -9999.0\n",
       "     long_name: nsidc_bt monthly Arctic sea-ice area\n",
       "     standard_name: sea_ice_area\n",
       "     units: 1e6 km2\n",
       " unlimited dimensions: time\n",
       " current shape = (2040,)\n",
       " filling on,\n",
       " 'nsidc_nt': <class 'netCDF4._netCDF4.Variable'>\n",
       " float64 nsidc_nt(time)\n",
       "     _FillValue: -9999.0\n",
       "     long_name: nsidc_nt monthly Arctic sea-ice area\n",
       "     standard_name: sea_ice_area\n",
       "     units: 1e6 km2\n",
       " unlimited dimensions: time\n",
       " current shape = (2040,)\n",
       " filling on,\n",
       " 'osisaf': <class 'netCDF4._netCDF4.Variable'>\n",
       " float64 osisaf(time)\n",
       "     _FillValue: -9999.0\n",
       "     long_name: osisaf monthly Arctic sea-ice area\n",
       "     standard_name: sea_ice_area\n",
       "     units: 1e6 km2\n",
       " unlimited dimensions: time\n",
       " current shape = (2040,)\n",
       " filling on,\n",
       " 'walsh': <class 'netCDF4._netCDF4.Variable'>\n",
       " float64 walsh(time)\n",
       "     _FillValue: -9999.0\n",
       "     long_name: walsh monthly Arctic sea-ice area\n",
       "     standard_name: sea_ice_area\n",
       "     units: 1e6 km2\n",
       " unlimited dimensions: time\n",
       " current shape = (2040,)\n",
       " filling on}"
      ]
     },
     "execution_count": 7,
     "metadata": {},
     "output_type": "execute_result"
    }
   ],
   "source": [
    "# prints the variable names contained inside the nc file\n",
    "# also prints long_name, units, fillvalue, dimensions etc\n",
    "\n",
    "sia_netcdf.variables"
   ]
  },
  {
   "cell_type": "code",
   "execution_count": null,
   "id": "065388f2",
   "metadata": {},
   "outputs": [],
   "source": [
    "# to actually access the data from the variables now \n",
    "# [:] will fetch all the data that is inside the variable\n",
    "\n",
    "sia_osisaf = sia_netcdf.variables['osisaf'][:]\n",
    "\n",
    "sia_nt = sia_netcdf.variables['nsidc_nt'][:]\n",
    "\n",
    "sia_bt = sia_netcdf.variables['nsidc_bt'][:]\n",
    "\n",
    "sia_hadis = sia_netcdf.variables['HadISST_nsidc'][:]\n",
    "\n",
    "sia_walsh = sia_netcdf.variables['walsh'][:]"
   ]
  },
  {
   "cell_type": "code",
   "execution_count": null,
   "id": "152441a3",
   "metadata": {},
   "outputs": [],
   "source": [
    "# To find out what is what is in there?\n",
    "sia_osisaf"
   ]
  },
  {
   "cell_type": "code",
   "execution_count": null,
   "id": "8e310575",
   "metadata": {},
   "outputs": [],
   "source": [
    "# or\n",
    "print(sia_osisaf)"
   ]
  },
  {
   "cell_type": "code",
   "execution_count": null,
   "id": "cdac0364",
   "metadata": {},
   "outputs": [],
   "source": [
    "# checking the length of this data\n",
    "\n",
    "len(sia_osisaf)"
   ]
  },
  {
   "cell_type": "code",
   "execution_count": null,
   "id": "954fe9ad",
   "metadata": {},
   "outputs": [],
   "source": [
    "# checking the time period of the data\n",
    "\n",
    "sia_netcdf.variables['time']\n",
    "\n",
    "# we can see that this is a daily data (check units) from January 1, 1850"
   ]
  },
  {
   "cell_type": "code",
   "execution_count": null,
   "id": "e6a692ec",
   "metadata": {},
   "outputs": [],
   "source": [
    "# if we try to plot the data that we just extracted it won't work \n",
    "# what we have right now is just an array of data we don't have an axis to plot this data against\n",
    "\n",
    "sia_osisaf.plot()"
   ]
  },
  {
   "cell_type": "code",
   "execution_count": null,
   "id": "6e20653b",
   "metadata": {},
   "outputs": [],
   "source": [
    "# Lets look at September only\n",
    "Month = 9\n",
    "\n",
    "# Get every 12th value starting for September\n",
    "sia_osisaf_sep = sia_osisaf.data[Month - 1::12]\n",
    "sia_nt_sep = sia_nt.data[Month - 1::12]\n",
    "sia_bt_sep = sia_bt.data[Month - 1::12]"
   ]
  },
  {
   "cell_type": "code",
   "execution_count": null,
   "id": "1230844b",
   "metadata": {},
   "outputs": [],
   "source": [
    "# Now so as to plot this data we have to set up the time period as the x-axis \n",
    "# To do so we will create an empty data frame with just the timestamp first\n",
    "# Define an empty data frame; data set ends in Dec 2019\n",
    "\n",
    "sia_obs = pd.DataFrame(index=range(1850, 2020))"
   ]
  },
  {
   "cell_type": "code",
   "execution_count": null,
   "id": "23fec121",
   "metadata": {},
   "outputs": [],
   "source": [
    "sia_obs"
   ]
  },
  {
   "cell_type": "code",
   "execution_count": null,
   "id": "9af5f184",
   "metadata": {},
   "outputs": [],
   "source": [
    "# Put one of the observation data sets in the dataframe (as columns) and plot it\n",
    "\n",
    "sia_obs['osisaf'] = sia_osisaf_sep\n",
    "sia_obs.plot()\n",
    "plt.show()"
   ]
  },
  {
   "cell_type": "code",
   "execution_count": null,
   "id": "22edd124",
   "metadata": {},
   "outputs": [],
   "source": [
    "# You may want to plot sia_nt and sia_bt as well for comparison.\n",
    "\n",
    "# Create more columns in the dataframe \n",
    "sia_obs['NASA-Team'] = sia_nt_sep\n",
    "sia_obs['Comiso-Bootstrap'] = sia_bt_sep"
   ]
  },
  {
   "cell_type": "code",
   "execution_count": null,
   "id": "0ba4885e",
   "metadata": {},
   "outputs": [],
   "source": [
    "sia_obs"
   ]
  },
  {
   "cell_type": "code",
   "execution_count": null,
   "id": "686e32a6",
   "metadata": {},
   "outputs": [],
   "source": [
    "sia_obs.plot()\n",
    "plt.show()"
   ]
  },
  {
   "cell_type": "code",
   "execution_count": null,
   "id": "cb0e3603",
   "metadata": {},
   "outputs": [],
   "source": [
    "sia_osisaf_sep_obs = sia_osisaf_sep[129:170]  # for later use\n",
    "sia_nt_sep_obs = sia_nt_sep[129:170]  # for later use\n",
    "sia_bt_sep_obs = sia_bt_sep[129:170]  # for later use"
   ]
  },
  {
   "cell_type": "code",
   "execution_count": null,
   "id": "58d851b2",
   "metadata": {},
   "outputs": [],
   "source": [
    "# To compute summary statistics\n",
    "\n",
    "print('Mean \\n',sia_obs.mean()) \n",
    "print('Standard Deviation \\n', sia_obs.std())\n",
    "print('Median \\n', sia_obs.median())"
   ]
  },
  {
   "cell_type": "markdown",
   "id": "9d7b884f",
   "metadata": {},
   "source": [
    "## CMIP6 Sea Ice Area Data Set"
   ]
  },
  {
   "cell_type": "code",
   "execution_count": null,
   "id": "70e49e55",
   "metadata": {},
   "outputs": [],
   "source": [
    "# Read, select and plot the CMIP6 sea ice area data from historical runs, data sets end in Dec 2014\n",
    "sia_netcdf_cmip = Dataset(path + file_siacmip)\n",
    "sia_netcdf_cmip"
   ]
  },
  {
   "cell_type": "code",
   "execution_count": null,
   "id": "48152158",
   "metadata": {},
   "outputs": [],
   "source": [
    "sia_netcdf_cmip.variables"
   ]
  },
  {
   "cell_type": "code",
   "execution_count": null,
   "id": "5d662f13",
   "metadata": {},
   "outputs": [],
   "source": [
    "sia_cmip = pd.DataFrame(index=range(1850, 2015))\n",
    "sia_cmip['MPI_ESM1_HR_Historical_run1'] = sia_mpiesm1_0_sep\n",
    "sia_cmip.plot()\n",
    "plt.show()\n",
    "\n",
    "# To only get the part of the data overlapping with the observations\n",
    "sia_cmip_overlap_obs = sia_cmip[129:165]\n",
    "sia_cmip_overlap_obs.plot()\n",
    "plt.show()"
   ]
  },
  {
   "cell_type": "markdown",
   "id": "340e0d06",
   "metadata": {},
   "source": [
    "## Read, select and plot the PIOMAS sea-ice volume time series"
   ]
  },
  {
   "cell_type": "code",
   "execution_count": null,
   "id": "fd75f12f",
   "metadata": {},
   "outputs": [],
   "source": [
    "siv = pd.read_csv(path + file_siv, index_col='year')"
   ]
  },
  {
   "cell_type": "code",
   "execution_count": null,
   "id": "2adb3d7b",
   "metadata": {},
   "outputs": [],
   "source": [
    "siv"
   ]
  },
  {
   "cell_type": "code",
   "execution_count": null,
   "id": "662b4fa0",
   "metadata": {},
   "outputs": [],
   "source": [
    "siv_sep = siv['Sep']\n",
    "siv_sep.plot()\n",
    "plt.show()"
   ]
  },
  {
   "cell_type": "code",
   "execution_count": null,
   "id": "22699510",
   "metadata": {},
   "outputs": [],
   "source": [
    "siv_sep_until2019 = siv_sep.loc[:2019.0] # for later use"
   ]
  },
  {
   "cell_type": "code",
   "execution_count": null,
   "id": "38583c7d",
   "metadata": {},
   "outputs": [],
   "source": [
    "# Lets check whether we get the same trend in sea ice volume as printed on the slide:\n",
    "\n",
    "coefficients, residuals, _, _, _ = np.polyfit(range(len(siv_sep.index)),\n",
    "                                              siv_sep,\n",
    "                                              1,\n",
    "                                              full=True)\n",
    "\n",
    "mse = residuals[0] / (len(siv_sep.index))\n",
    "\n",
    "nrmse = np.sqrt(mse) / (siv_sep.max() - siv_sep.min())\n",
    "\n",
    "print('Slope ' + str(coefficients[0] * 10))\n",
    "print('NMRSE ' + str(nrmse * 10))\n",
    "\n",
    "# The *10 is to get the trend per decade"
   ]
  },
  {
   "cell_type": "code",
   "execution_count": null,
   "id": "dc7de0ad",
   "metadata": {},
   "outputs": [],
   "source": [
    "# What is the trend until including 2019?\n",
    "coefficients, residuals, _, _, _ = np.polyfit(range(len(siv_sep_until2019.index)),\n",
    "                                              siv_sep_until2019,\n",
    "                                              1,\n",
    "                                              full=True)\n",
    "\n",
    "mse = residuals[0] / (len(siv_sep_until2019.index))\n",
    "\n",
    "nrmse = np.sqrt(mse) / (siv_sep_until2019.max() - siv_sep_until2019.min())\n",
    "\n",
    "print('Slope ' + str(coefficients[0] * 10))\n",
    "print('NMRSE ' + str(nrmse * 10))"
   ]
  },
  {
   "cell_type": "code",
   "execution_count": null,
   "id": "9d5c7045",
   "metadata": {},
   "outputs": [],
   "source": [
    "# What happens if we use the OSISAF SIA time series and compute the volume trend\n",
    "# using a constant sea ice thickness?\n",
    "coefficients, residuals, _, _, _ = np.polyfit(range(len(siv_sep_until2019.index)),\n",
    "                                              sia_osisaf_sep_obs * 2.0,\n",
    "                                              1,\n",
    "                                              full=True)\n",
    "\n",
    "# Note we use the sea ice volume data set for the index because the OSISAF SIA one does not have an index\n",
    "mse = residuals[0] / (len(siv_sep_until2019.index))"
   ]
  },
  {
   "cell_type": "code",
   "execution_count": null,
   "id": "9a1efde8",
   "metadata": {},
   "outputs": [],
   "source": [
    "nrmse = np.sqrt(mse) / (sia_osisaf_sep_obs.max() * 2.0 -\n",
    "                        sia_osisaf_sep_obs.min() * 2.0)\n",
    "print('Slope ' + str(coefficients[0] * 10))\n",
    "print('NMRSE ' + str(nrmse * 10))"
   ]
  },
  {
   "cell_type": "markdown",
   "id": "5805389f",
   "metadata": {},
   "source": [
    "# You may test whether the values change using a different sea ice thickness value. What could be the conclusion?"
   ]
  },
  {
   "cell_type": "code",
   "execution_count": null,
   "id": "124564ee",
   "metadata": {},
   "outputs": [],
   "source": []
  },
  {
   "cell_type": "code",
   "execution_count": null,
   "id": "50e4b81b",
   "metadata": {},
   "outputs": [],
   "source": []
  },
  {
   "cell_type": "code",
   "execution_count": null,
   "id": "ee3ff0af",
   "metadata": {},
   "outputs": [],
   "source": []
  },
  {
   "cell_type": "code",
   "execution_count": null,
   "id": "bc3782f7",
   "metadata": {},
   "outputs": [],
   "source": []
  },
  {
   "cell_type": "markdown",
   "id": "877a0322",
   "metadata": {},
   "source": [
    "# Resources\n",
    "\n",
    "- [Data Carpentry for Oceanographers](https://adyork.github.io/python-oceanography-lesson/) is a very good introduction to not just netCDF but Introduction to Python for Oceanographers\n",
    "- [xarray netCDF tutorial](https://docs.xarray.dev/en/stable/user-guide/io.html) xarray is also a very powerful python package for handling netCDF files in Python. In this notebook only the package `netCDF` has been used.\n",
    "- [Climate Unboxed YouTube Channel](https://www.youtube.com/@climateunboxed/) A nice place to learn about various methods and tool used in Climate Data Analysis\n",
    "- [Introduction to netCDF from Copernicus Marine Service](https://youtu.be/K1_8EqCJlwo)\n",
    "- [NetCDF Why and How: Creating Publication Quality NetCDF Datasets](https://www.youtube.com/watch?v=7YYTXa4qyfo) good visualization of the structure of netCDF files from NASA Earth Data (till 17:20)"
   ]
  }
 ],
 "metadata": {
  "kernelspec": {
   "display_name": "Python 3 (ipykernel)",
   "language": "python",
   "name": "python3"
  },
  "language_info": {
   "codemirror_mode": {
    "name": "ipython",
    "version": 3
   },
   "file_extension": ".py",
   "mimetype": "text/x-python",
   "name": "python",
   "nbconvert_exporter": "python",
   "pygments_lexer": "ipython3",
   "version": "3.9.9"
  }
 },
 "nbformat": 4,
 "nbformat_minor": 5
}
